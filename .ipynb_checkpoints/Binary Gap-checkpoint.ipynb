{
 "cells": [
  {
   "cell_type": "markdown",
   "metadata": {},
   "source": [
    "### Task\n",
    "\n",
    "A binary gap within a positive integer N is any maximal sequence of consecutive zeros that is surrounded by ones at both ends in the binary representation of N.\n",
    "\n",
    "For example, number 9 has binary representation 1001 and contains a binary gap of length 2. The number 529 has binary representation 1000010001 and contains two binary gaps: one of length 4 and one of length 3. The number 20 has binary representation 10100 and contains one binary gap of length 1. The number 15 has binary representation 1111 and has no binary gaps. The number 32 has binary representation 100000 and has no binary gaps.\n",
    "\n",
    "Write a function:\n",
    "\n",
    "def solution(N)\n",
    "\n",
    "that, given a positive integer N, returns the length of its longest binary gap. The function should return 0 if N doesn't contain a binary gap.\n",
    "\n",
    "For example, given N = 1041 the function should return 5, because N has binary representation 10000010001 and so its longest binary gap is of length 5. Given N = 32 the function should return 0, because N has binary representation '100000' and thus no binary gaps.\n",
    "\n",
    "Write an efficient algorithm for the following assumptions:\n",
    "\n",
    "N is an integer within the range [1..2,147,483,647]\n",
    "  \n",
    "  \n",
    "    "
   ]
  },
  {
   "cell_type": "markdown",
   "metadata": {},
   "source": [
    "### Solution \n",
    "\n",
    "For any integer (positive or negative), we can use the function bin, to give the binary representation. We can then use the split function to remove the 0b or -0b part, depending on whether N is positive or negative."
   ]
  },
  {
   "cell_type": "code",
   "execution_count": 15,
   "metadata": {},
   "outputs": [
    {
     "name": "stdout",
     "output_type": "stream",
     "text": [
      "The binary representation of 2 is 0b10, better written as 10\n",
      "The binary representation of 4 is 0b100, better written as 100\n",
      "The binary representation of 10 is 0b1010, better written as 1010\n",
      "The binary representation of 1234 is 0b10011010010, better written as 10011010010\n",
      "The binary representation of -10 is -0b1010, better written as 1010\n"
     ]
    }
   ],
   "source": [
    "for N in [2, 4, 10, 1234, -10]:\n",
    "    print('The binary representation of {0} is {1}, better written as {2}'\n",
    "          .format(N, bin(N), bin(N).split('b')[1]))"
   ]
  },
  {
   "cell_type": "code",
   "execution_count": null,
   "metadata": {},
   "outputs": [],
   "source": []
  },
  {
   "cell_type": "code",
   "execution_count": null,
   "metadata": {},
   "outputs": [],
   "source": [
    "def one_indexes()"
   ]
  },
  {
   "cell_type": "code",
   "execution_count": null,
   "metadata": {},
   "outputs": [],
   "source": []
  },
  {
   "cell_type": "code",
   "execution_count": null,
   "metadata": {},
   "outputs": [],
   "source": []
  },
  {
   "cell_type": "code",
   "execution_count": null,
   "metadata": {},
   "outputs": [],
   "source": [
    "def longest_binary_gap(N):\n",
    "    \"\"\"Returns the largest number of 0s between two 1s in the binary representation of n\"\"\"\n",
    "    \n",
    "    N_binary = bin(N)[2:]     #[2:] removes '0b'   \n",
    "    \n",
    "    one_indexes = [index for (index, value) in enumerate(N_binary) if value == \"1\"]\n",
    "    \n",
    "    if len(one_indexes) == 1:    \n",
    "        return 0                 \n",
    "    # Need at least two 1s for gaps \n",
    "    \n",
    "    longest_gap = max((index - adjacent - 1) for index, adjacent \n",
    "                                             in zip(one_indexes[1:], one_indexes))\n",
    "    # Each gap is given by one_indexes[i] - one_indexes[i-1] - 1 \n",
    "    # Works when N_binary has no zeros, eg \"1111\"\n",
    "    \n",
    "    return longest_gap"
   ]
  },
  {
   "cell_type": "code",
   "execution_count": 11,
   "metadata": {},
   "outputs": [
    {
     "name": "stdout",
     "output_type": "stream",
     "text": [
      "The longest binary gap in 1001 (9) is 2\n",
      "The longest binary gap in 1000010001 (529) is 4\n",
      "The longest binary gap in 10100 (20) is 1\n",
      "The longest binary gap in 1111 (15) is 0\n",
      "The longest binary gap in 100000 (32) is 0\n",
      "The longest binary gap in 1111111111111111111111111111111 (2147483647) is 0\n"
     ]
    }
   ],
   "source": [
    "for N in [9, 529, 20, 15, 32, 2147483647]:\n",
    "    print('The longest binary gap in {0} ({1}) is {2}'.format(bin(N)[2:], N, longest_binary_gap(N)))"
   ]
  },
  {
   "cell_type": "code",
   "execution_count": null,
   "metadata": {},
   "outputs": [],
   "source": []
  }
 ],
 "metadata": {
  "kernelspec": {
   "display_name": "Python 3",
   "language": "python",
   "name": "python3"
  },
  "language_info": {
   "codemirror_mode": {
    "name": "ipython",
    "version": 3
   },
   "file_extension": ".py",
   "mimetype": "text/x-python",
   "name": "python",
   "nbconvert_exporter": "python",
   "pygments_lexer": "ipython3",
   "version": "3.7.4"
  }
 },
 "nbformat": 4,
 "nbformat_minor": 2
}
