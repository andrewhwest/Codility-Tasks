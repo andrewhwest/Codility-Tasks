{
 "cells": [
  {
   "cell_type": "markdown",
   "metadata": {},
   "source": [
    "### Task\n",
    "\n",
    "A binary gap within a positive integer N is any maximal sequence of consecutive zeros that is surrounded by ones at both ends in the binary representation of N.\n",
    "\n",
    "For example, number 9 has binary representation 1001 and contains a binary gap of length 2. The number 529 has binary representation 1000010001 and contains two binary gaps: one of length 4 and one of length 3. The number 20 has binary representation 10100 and contains one binary gap of length 1. The number 15 has binary representation 1111 and has no binary gaps. The number 32 has binary representation 100000 and has no binary gaps.\n",
    "\n",
    "Write a function:\n",
    "\n",
    "def solution(N)\n",
    "\n",
    "that, given a positive integer N, returns the length of its longest binary gap. The function should return 0 if N doesn't contain a binary gap.\n",
    "\n",
    "For example, given N = 1041 the function should return 5, because N has binary representation 10000010001 and so its longest binary gap is of length 5. Given N = 32 the function should return 0, because N has binary representation '100000' and thus no binary gaps.\n",
    "\n",
    "Write an efficient algorithm for the following assumptions:\n",
    "\n",
    "N is an integer within the range [1..2,147,483,647]\n",
    "  \n",
    "  \n",
    "    "
   ]
  },
  {
   "cell_type": "markdown",
   "metadata": {},
   "source": [
    "### Solution \n",
    "\n",
    "For any integer (the question specifies positive but we can easily extend for negatives), we can use the function bin, to give the binary representation. We can then use the split function to remove the 0b or -0b part, as we're only interested in the 0s and 1s, regardless of whether N is positive or negative."
   ]
  },
  {
   "cell_type": "code",
   "execution_count": 1,
   "metadata": {},
   "outputs": [
    {
     "name": "stdout",
     "output_type": "stream",
     "text": [
      "The binary representation of 0 is 0b0, better written as 0\n",
      "The binary representation of 2 is 0b10, better written as 10\n",
      "The binary representation of 7 is 0b111, better written as 111\n",
      "The binary representation of 10 is 0b1010, better written as 1010\n",
      "The binary representation of 1234 is 0b10011010010, better written as 10011010010\n",
      "The binary representation of -10876 is -0b10101001111100, better written as 10101001111100\n"
     ]
    }
   ],
   "source": [
    "for N in [0, 2, 7, 10, 1234, -10876]:\n",
    "    print('The binary representation of {0} is {1}, better written as {2}'\n",
    "          .format(N, bin(N), bin(N).split('b')[1]))"
   ]
  },
  {
   "cell_type": "markdown",
   "metadata": {},
   "source": [
    "For a binary number to have a binary gap, we must have at least one 0 closed inbetween two 1s. If we can find where the 1s appear, then we can look at the distance between them to calculate the length of binary gaps.  "
   ]
  },
  {
   "cell_type": "code",
   "execution_count": 2,
   "metadata": {},
   "outputs": [],
   "source": [
    "def one_indices(binary_number):\n",
    "    \"\"\"Returns a list of the indices where there are 1s in a binary number\"\"\"\n",
    "    \n",
    "    return [index for (index, value) in enumerate(binary_number) if value == \"1\"]"
   ]
  },
  {
   "cell_type": "code",
   "execution_count": 3,
   "metadata": {},
   "outputs": [
    {
     "name": "stdout",
     "output_type": "stream",
     "text": [
      "N: 0, binary representation: 0, 1 indices: []\n",
      "N: 2, binary representation: 10, 1 indices: [0]\n",
      "N: 7, binary representation: 111, 1 indices: [0, 1, 2]\n",
      "N: 10, binary representation: 1010, 1 indices: [0, 2]\n",
      "N: 1234, binary representation: 10011010010, 1 indices: [0, 3, 4, 6, 9]\n",
      "N: -10876, binary representation: 10101001111100, 1 indices: [0, 2, 4, 7, 8, 9, 10, 11]\n"
     ]
    }
   ],
   "source": [
    "for N in [0, 2, 7, 10, 1234, -10876]:\n",
    "    N_binary = bin(N).split('b')[1]\n",
    "    print('N: {0}, binary representation: {1}, 1 indices: {2}'\n",
    "          .format(N, N_binary, one_indices(N_binary)))"
   ]
  },
  {
   "cell_type": "markdown",
   "metadata": {},
   "source": [
    "To calculate the length of a binary gap, we take one less than the difference between the indices of adjacent 1s.\n",
    "  \n",
    "For example:\n",
    "<pre>  \n",
    "N:                  100100001\n",
    "1 indices:          0  3    8\n",
    "Closed 0s:           00 0000\n",
    "Gap lengths: 3-0-1 = 2    4 = 8-3-1 \n",
    "</pre>\n",
    "\n",
    "This also works if there are no 0s, and therefore no binary gaps.\n",
    "\n",
    "For example:\n",
    "<pre>  \n",
    "N:                   11\n",
    "Closed 0s:          \n",
    "1 indices:           01    \n",
    "Gap lengths: 1-0-1 = 0 \n",
    "</pre>\n",
    "\n",
    "We are interested in taking the maximum of these lengths."
   ]
  },
  {
   "cell_type": "code",
   "execution_count": 4,
   "metadata": {},
   "outputs": [],
   "source": [
    "def longest_binary_gap(N):\n",
    "    \"\"\"Returns the largest number of 0s closed inbetween two 1s in the binary representation of N\"\"\"\n",
    "    \n",
    "    N_binary = bin(N).split('b')[1]  \n",
    "    \n",
    "    # Need at least two 1s for gaps\n",
    "    if len(one_indices(N_binary)) == 1:    \n",
    "        return 0                 \n",
    "    else: \n",
    "        longest_gap = max( (index - adjacent - 1) for index, adjacent \n",
    "                                                  in zip(one_indices(N_binary)[1:], \n",
    "                                                         one_indices(N_binary))\n",
    "                         ) \n",
    "        return longest_gap"
   ]
  },
  {
   "cell_type": "code",
   "execution_count": 5,
   "metadata": {},
   "outputs": [
    {
     "name": "stdout",
     "output_type": "stream",
     "text": [
      "The longest binary gap in 1001 (9) is 2\n",
      "The longest binary gap in 1000010001 (529) is 4\n",
      "The longest binary gap in 10100 (20) is 1\n",
      "The longest binary gap in 1111 (15) is 0\n",
      "The longest binary gap in 100000 (32) is 0\n",
      "The longest binary gap in 111101000010010000000000001000011110001010110000101 (2147483665765765) is 12\n"
     ]
    }
   ],
   "source": [
    "for N in [9, 529, 20, 15, 32, 2147483665765765]:\n",
    "    print('The longest binary gap in {0} ({1}) is {2}'.format(bin(N)[2:], N, longest_binary_gap(N)))"
   ]
  }
 ],
 "metadata": {
  "kernelspec": {
   "display_name": "Python 3",
   "language": "python",
   "name": "python3"
  },
  "language_info": {
   "codemirror_mode": {
    "name": "ipython",
    "version": 3
   },
   "file_extension": ".py",
   "mimetype": "text/x-python",
   "name": "python",
   "nbconvert_exporter": "python",
   "pygments_lexer": "ipython3",
   "version": "3.7.4"
  }
 },
 "nbformat": 4,
 "nbformat_minor": 2
}
